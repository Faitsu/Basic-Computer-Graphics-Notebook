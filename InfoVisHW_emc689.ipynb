{
  "nbformat": 4,
  "nbformat_minor": 0,
  "metadata": {
    "colab": {
      "name": "InfoVisHW_emc689.ipynb",
      "provenance": [],
      "collapsed_sections": [],
      "include_colab_link": true
    },
    "kernelspec": {
      "name": "python3",
      "display_name": "Python 3"
    },
    "language_info": {
      "name": "python"
    }
  },
  "cells": [
    {
      "cell_type": "markdown",
      "metadata": {
        "id": "view-in-github",
        "colab_type": "text"
      },
      "source": [
        "<a href=\"https://colab.research.google.com/github/Faitsu/Basic-Computer-Graphics-Notebook/blob/main/InfoVisHW_emc689.ipynb\" target=\"_parent\"><img src=\"https://colab.research.google.com/assets/colab-badge.svg\" alt=\"Open In Colab\"/></a>"
      ]
    },
    {
      "cell_type": "markdown",
      "metadata": {
        "id": "wlI2jBjavHGi"
      },
      "source": [
        "# CS-GY 6313/CUSP-GX 6006 Information Assignment 1\n",
        "\n",
        "Given: Two triangle positions in 3D, triangle colors, and camera parameters. \n",
        "\n",
        "Output: Saved and visualizable color images from the three given cameras (as .png, .jpg, etc.)\n",
        "\n",
        "##Inputs:\n",
        "\n",
        "3D Coordinates of the vertices two triangles (vertices1, vertices2, vertices3)\n",
        "\n",
        "```\n",
        "tri1_vertices = [(x0, y0, z0), (x1, y1, z1), (x2, y2, z2)]\n",
        "tri2_vertices = [(x0, y0, z0), (x1, y1, z1), (x2, y2, z2)] \n",
        "```\n",
        "Camera parameters (position, forward/facing direction, up/camera orientation, fov). Assume aspect ratio is 1:1 and FOV in degrees.\n",
        "```\n",
        "cam1 = [(x0, y0, z0), (x0_f, y0_f, z0_f), (x0_u, y0_u, z0_u), fov0]\n",
        "cam2 = [(x1, y1, z1), (x1_f, y1_f, z1_f), (x1_u, y1_u, z1_u), fov1]\n",
        "cam3 = [(x2, y2, z2), (x2_f, y2_f, z2_f), (x2_u, y2_u, z2_u), fov2]\n",
        "```\n",
        "\n"
      ]
    },
    {
      "cell_type": "markdown",
      "metadata": {
        "id": "emnvsFnK0HrV"
      },
      "source": [
        "Changelog: \n",
        "10/6: Fixed last row of translate_center_to_origin to be [0, 0, 0, 1] instead of [0, 0, 1, 0]\n",
        "9/29: Fixed a variable typo in scale_by_2_matrix to 2/(t-b), orginally 2/(l-b) "
      ]
    },
    {
      "cell_type": "markdown",
      "metadata": {
        "id": "feAxAcPB8EGY"
      },
      "source": [
        "# Programming exercises"
      ]
    },
    {
      "cell_type": "code",
      "metadata": {
        "id": "gKN9s6seT7go"
      },
      "source": [
        "from google.colab import drive\n",
        "from google.colab import files\n",
        "import matplotlib.pyplot as plt \n",
        "import numpy as np\n",
        "\n",
        "drive.mount('/content/drive')"
      ],
      "execution_count": null,
      "outputs": []
    },
    {
      "cell_type": "markdown",
      "metadata": {
        "id": "0is-PcpgqiTB"
      },
      "source": [
        "## Render triangles in camera using CPU-only rasterisation.\n",
        "\n",
        "\n",
        "Write a function to render an image using camera settings and triangle vertices as the input. Write your own code for rasterization to render a triangle pixel-by-pixel. You can use any method to show the triangles (ex. Matplotlib, OpenCV, plotly, etc.) as long as you first perform Model-View-Projection.\n",
        "\n",
        "\n",
        "\n",
        "\n"
      ]
    },
    {
      "cell_type": "markdown",
      "metadata": {
        "id": "yuYMC1k0_WIV"
      },
      "source": [
        "# Complete the functions for Model View Projection\n",
        "\n",
        "Model: objects to coordinates in world space\n",
        "\n",
        "View: from world space to camera space\n",
        "\n",
        "Projection: from camera space to clip/screen space"
      ]
    },
    {
      "cell_type": "code",
      "metadata": {
        "id": "mIWNMGuYi1IT"
      },
      "source": [
        "#These are funtions that could be useful ie. Cross product, normalize,etc...\n",
        "\n",
        "def magni_three(x, y, z) : #finds magnitude of a 3 dimentional vector\n",
        "\treturn np.sqrt(x*x + y*y + z * z)\n",
        "\n",
        "\n",
        "def cross_product( m, n) :#function used to calculate the cross product where m is point1 and n is point2\n",
        "  p = [0,0,0] #define point\n",
        "\n",
        "  p[0] = round(m[1]*n[2]-m[2]*n[1],2)\n",
        "  p[1] = round(m[2]*n[0]- m[0]*n[2],2)\n",
        "  p[2] = round(m[0]*n[1]-m[1]*n[0],2)\n",
        "  return p\n",
        "\n",
        "def normalize(v):\n",
        "  #normalize vector\n",
        "  nv = [0,0,0]\n",
        "  d = magni_three(v[0], v[1], v[2])\n",
        "  nv[0] = round(v[0]/d,2)\n",
        "  nv[1] = round(v[1]/d,2)\n",
        "  nv[2] = round(v[2]/d,2)\n",
        "\n",
        "  return nv\n",
        "\n",
        "def vect_calc(p1, p2) : #calculates value for vector\n",
        "  v = [0,0,0]\n",
        "  v[0] = p2[0]-p1[0];\n",
        "  v[1] = p2[1]-p1[1];\n",
        "  v[2] = p2[2]-p1[2];\n",
        "\n",
        "  return v\n",
        "\n",
        "def create_transfvect(point):\n",
        "    return [[point[0]],[point[1]],[point[2]],[1]] #makes a point ready for transformations\n",
        "\n",
        "def edgeFunct(v1, v2, p): #use this as the edge function for two vertices and a point\n",
        "  return (((p[0]-v1[0])*(v2[1]-v1[1]))-((p[1]-v1[1])*(v2[0]-v1[0])) >= 0)\n",
        "\n",
        "def pointEdge (verts, j,i): #determines if point is inside circle, need both or algo does not work\n",
        "  return ((edgeFunct(verts[0],verts[1],[i,j]) and edgeFunct(verts[1],verts[2],[i,j]) and edgeFunct(verts[2],verts[0],[i,j]))\n",
        "   or ((edgeFunct(verts[1],verts[0],[i,j]) and edgeFunct(verts[2],verts[1],[i,j]) and edgeFunct(verts[0],verts[2],[i,j]))))\n",
        "\n",
        "def convertToScreen(tri1,tri2, height, width): \n",
        "  #converts all values of the triangle into screen coordinates and returns arrays containting triangle ppoints to draw\n",
        "  scalew =  width #scaled width\n",
        "  scaleh =  height #scaled height\n",
        "  conv_tri1 = [] #converted first triangle into screen space\n",
        "  conv_tri2 = [] #converted second triangle\n",
        "  vert1 = [] #Verticies of triangle 1 in Screen Space\n",
        "  vert2 = [] #Verticies of triangle 2 in Screen Space\n",
        "\n",
        "  minh = height #initalize minimum height\n",
        "  minw = width  #initalize minimum width\n",
        "\n",
        "  maxw = -1 #initalize max width\n",
        "  maxh = -1 #maximize max height\n",
        "\n",
        "  for i in range(0,3):\n",
        "    #scale the verticies\n",
        "    point1 = [int(round(tri1[i][0] * scalew +width,0)), int(round(tri1[i][1] *  scaleh+height,0)), int(round(tri1[i][2] * 100,0))]\n",
        "    point2 = [int(round(tri2[i][0] * scalew +width,0)), int(round(tri2[i][1] * scaleh+height,0)), int(round(tri2[i][2] * 100,0))]\n",
        "\n",
        "    #update mins and max\n",
        "    if (point1[0]<minw or point2[0] <minw):\n",
        "      minw = min(point1[0],point2[0])\n",
        "    if (point1[0]>maxw or point2[0] >maxw):\n",
        "      maxw = max(point1[0],point2[0])\n",
        "\n",
        "    if (point1[1]<minh or point2[1] <minh):\n",
        "      minh = min(point1[1],point2[1])\n",
        "    if (point1[1]>maxh or point2[1] >maxh):\n",
        "      maxh = max(point1[1],point2[1])\n",
        "    \n",
        "    #record verticies\n",
        "    vert1.append([tri1[i][0] * scalew +width, tri1[i][1] *  scaleh+height,tri1[i][2] * 100])\n",
        "    vert2.append([tri2[i][0] * scalew +width, tri2[i][1] *  scaleh+height,tri2[i][2] * 100])\n",
        "    \n",
        "   \n",
        "\n",
        "  #negative numbers will mess up my \n",
        "  if (minh < 0):\n",
        "    minh = 0\n",
        "  if (minw < 0):\n",
        "    minw = 0\n",
        "\n",
        "  if (maxw >2*width - 1):\n",
        "    maxw = 2*width - 1\n",
        "  if (maxh > 2*height - 1):\n",
        "    maxh = 2*height - 1\n",
        "\n",
        "  for i in range(minw, maxw+1):\n",
        "    for j in range(minh, maxh+1):\n",
        "      if pointEdge(vert1, j, i): #point is inside the triangle\n",
        "        conv_tri1.append([i,j]) # record triangle point for first triangle\n",
        "      if pointEdge(vert2, j , i):\n",
        "        conv_tri2.append([i,j])#record triangle point for second triangle\n",
        "                              \n",
        "  return conv_tri1, conv_tri2,vert1,vert2\n"
      ],
      "execution_count": null,
      "outputs": []
    },
    {
      "cell_type": "code",
      "metadata": {
        "id": "Ef9lWGNpUECT"
      },
      "source": [
        "# Since our triangle vertices are already in world space (x, y, z), there's\n",
        "# no need write a function for the Model part of MVP! We can jump directly to \n",
        "# getting the view matrix and using that to get the camera coordinates."
      ],
      "execution_count": null,
      "outputs": []
    },
    {
      "cell_type": "code",
      "metadata": {
        "id": "F2P1oZUQCek6"
      },
      "source": [
        "def view(camera, triangle1, triangle2):\n",
        "  ### TODO: Find R_view and T_view using the camera settings\n",
        "  \n",
        "  ##Rview is rotation and T view is translation\n",
        "\n",
        "  #we need to find the normalized vectors for look at and up direction\n",
        "\n",
        "  e = camera[0] #eye\n",
        "  g = normalize(vect_calc(camera[1],e)) #normalize eye-at vector\n",
        "  x = normalize(cross_product(g,camera[2])) #x axis vector\n",
        "  t = normalize(cross_product(g,x)) #y axis\n",
        "  \n",
        "  #print(\"g: \", g ,'\\n')\n",
        "  #print(\"t: \", t ,'\\n')\n",
        "  #print(\"x: \", x ,'\\n')\n",
        "\n",
        "  #rotation matrix\n",
        "  R_view = [[x[0],x[1],x[2],0],\n",
        "            [t[0],t[1],t[2],0],\n",
        "            [g[0],g[1],g[2],0],\n",
        "            [0,0,0,1]]\n",
        "\n",
        "  #translation matrix\n",
        "  T_view = [[1,0,0,-e[0]],\n",
        "            [0,1,0,-e[1]],\n",
        "            [0,0,1,-e[2]],\n",
        "            [0,0,0,1]]\n",
        "\n",
        "  #Model View Matrix from Multiplying R_view & T_view\n",
        "  M_view = np.matmul(R_view, T_view)\n",
        "  #print(\"CURR M_VIEW: \", M_view, '\\n')\n",
        "  ### TODO: Use M_view to find the vertices coordinates in camera space\n",
        "\n",
        "  #convert triangles 1 and 2 into a 4x4 matrix\n",
        "  tri1 =[]\n",
        "  tri2 = []\n",
        "\n",
        "  for i in range (0,3): #for each triangle, transform them by the view matrix\n",
        "    temp1 = create_transfvect(triangle1[i])\n",
        "    temp2 = create_transfvect(triangle2[i])\n",
        "\n",
        "    ti1 = np.matmul(M_view,temp1)\n",
        "    ti2 = np.matmul(M_view,temp2)\n",
        "\n",
        "    t1 = [ti1[0][0],ti1[1][0],ti1[2][0]]\n",
        "    t2 = [ti2[0][0],ti2[1][0],ti2[2][0]]\n",
        "\n",
        "    tri1.append(t1)\n",
        "    tri2.append(t2)\n",
        "  tri1_in_camera_space = tri1 \n",
        "  tri2_in_camera_space = tri2 \n",
        "\n",
        "  #should return a 4x4 matrix\n",
        "  return tri1_in_camera_space, tri2_in_camera_space"
      ],
      "execution_count": null,
      "outputs": []
    },
    {
      "cell_type": "code",
      "metadata": {
        "id": "_PJwG2pqxaK2",
        "colab": {
          "base_uri": "https://localhost:8080/"
        },
        "outputId": "ab45d39a-6ac9-4fa7-d214-67284c575401"
      },
      "source": [
        "#DEBUG #1: TESTING VIEW SPACE\n",
        "\n",
        "# Triangle vertices in 3D world space\n",
        "tri1 = [(0, 0, 0), (0, 30, 0), (35, 0, 35)] # RGB(255, 0, 0), Red\n",
        "tri2 = [(17, 0, 0), (0, 0, 17), (17, 45, 17)] # RGB(0, 255, 0), Green\n",
        "\n",
        "cam1 = [(50, 10, 0), (0, 10, 0), (0, 1, 0), 90] \n",
        "cam2 = [(50, 10, 0), (0, 10, 0), (0, -1, 0), 105]\n",
        "cam3 = [(0, 10, 50), (0, 10, 0), (0, 1, 0), 120] \n",
        "\n",
        "tri1_in_camera_space, tri2_in_camera_space = view(cam1,tri1,tri2)\n",
        "\n",
        "tri1_in_camera_space, tri2_in_camera_space = view(cam2,tri1,tri2)\n",
        "tri1_in_camera_space, tri2_in_camera_space = view(cam3,tri1,tri2)\n",
        "#print(\"TRI 1: \",tri1_in_camera_space,\"\\n TRI 2: \",tri2_in_camera_space)"
      ],
      "execution_count": null,
      "outputs": [
        {
          "output_type": "stream",
          "name": "stdout",
          "text": [
            "CURR M_VIEW:  [[  0.   0.   1.   0.]\n",
            " [  0.  -1.   0.  10.]\n",
            " [  1.   0.   0. -50.]\n",
            " [  0.   0.   0.   1.]] \n",
            "\n",
            "CURR M_VIEW:  [[  0.   0.  -1.   0.]\n",
            " [  0.   1.   0. -10.]\n",
            " [  1.   0.   0. -50.]\n",
            " [  0.   0.   0.   1.]] \n",
            "\n",
            "CURR M_VIEW:  [[ -1.   0.   0.   0.]\n",
            " [  0.  -1.   0.  10.]\n",
            " [  0.   0.   1. -50.]\n",
            " [  0.   0.   0.   1.]] \n",
            "\n",
            "TRI 1:  [[0.0, 10.0, -50.0], [0.0, -20.0, -50.0], [-35.0, 10.0, -15.0]] \n",
            " TRI 2:  [[-17.0, 10.0, -50.0], [0.0, 10.0, -33.0], [-17.0, -35.0, -33.0]]\n"
          ]
        }
      ]
    },
    {
      "cell_type": "code",
      "metadata": {
        "id": "-f-N-aOjOkKF"
      },
      "source": [
        "def get_M_persp(field_of_view):\n",
        "  aspect_ratio = 1\n",
        "  ### TODO: Define r, l, b, t, n, and f. Return M_persp\n",
        "\n",
        "  n = 0.1 # You can choose some very small number\n",
        "  f = 100 # You can choose some very large number\n",
        "  t = np.abs(n) * np.tan(np.deg2rad(field_of_view/2))\n",
        "  r = aspect_ratio * t\n",
        "  l = -r\n",
        "  b = -t\n",
        "\n",
        "  scale_by_2 = [[2/(r-l), 0, 0, 0], \n",
        "               [0, 2/(t-b), 0 , 0],\n",
        "               [0, 0, 2/(n-f), 0],\n",
        "               [0, 0, 0, 1]]\n",
        "\n",
        "  translate_center_to_origin = [[1, 0, 0, -(r+l)/2],\n",
        "                                [0, 1, 0, -(t+b)/2],\n",
        "                                [0, 0, 1, -(n+f)/2],\n",
        "                                [0, 0, 0, 1]]\n",
        "\n",
        "  M_ortho = np.matmul(scale_by_2,translate_center_to_origin,)\n",
        "\n",
        "  ### TODO: Find M_persp\n",
        "  M_ortho_persp = [[n,0,0,0],\n",
        "                  [0,n,0,0],\n",
        "                  [0,0,n+f,-n*f],\n",
        "                  [0,0,1,0]]\n",
        "\n",
        "  M_persp = np.matmul(M_ortho, M_ortho_persp)\n",
        "  return M_persp\n",
        "\n",
        "def perspective_projection(field_of_view, tri1, tri2):\n",
        "  M_persp = get_M_persp(field_of_view)\n",
        "  #print(\"M PRESPECTIVE: \", M_persp, '\\n')\n",
        "  ### TODO: Use M_persp to find the verticees coordinates in camera space\n",
        "  \n",
        "  triangle1 =[]\n",
        "  triangle2 = []\n",
        "\n",
        "  for i in range (0,3): #for each triangle, transform them by the projection\n",
        "    temp1 = create_transfvect(tri1[i])\n",
        "    temp2 = create_transfvect(tri2[i])\n",
        "\n",
        "    t1 = np.matmul(M_persp,temp1)\n",
        "    t2 = np.matmul(M_persp,temp2)\n",
        "\n",
        "    #print(\"CURRENT t1:\", t1, \"\\n CURRENT t2: \", t2, '\\n')\n",
        "\n",
        "    h1 = t1[3][0] \n",
        "    h2 = t2[3][0] \n",
        "\n",
        "    t1 = [round(t1[0][0]/h1,3),round(t1[1][0]/h1 ,3),round(t1[2][0]/h1,3)]\n",
        "    t2 = [round(t2[0][0]/h2,3),round(t2[1][0]/h2,3),round(t2[2][0]/h2,3)]\n",
        "\n",
        "    triangle1.append(t1)\n",
        "    triangle2.append(t2)\n",
        "  tri_1_screen_coordinates = triangle1 # Find\n",
        "  tri2_screen_coordinates = triangle2 # Find\n",
        "\n",
        "  return tri_1_screen_coordinates, tri2_screen_coordinates"
      ],
      "execution_count": null,
      "outputs": []
    },
    {
      "cell_type": "code",
      "metadata": {
        "id": "qL4_6FfBU9ch"
      },
      "source": [
        "def mvp(camera, triangle1, triangle2): #combine model view and projection parts\n",
        "  tri1_in_camera_space, tri2_in_camera_space = view(camera,triangle1,triangle2)\n",
        "  tri1_in_screen_space, tri2_in_screen_space = perspective_projection(camera[3], tri1_in_camera_space, tri2_in_camera_space)\n",
        "  return tri1_in_screen_space, tri2_in_screen_space"
      ],
      "execution_count": null,
      "outputs": []
    },
    {
      "cell_type": "code",
      "metadata": {
        "id": "ccsB4smnKXsq"
      },
      "source": [
        "def rasterize(tri1, tri2,size): #draw points on screen\n",
        "  pixels = np.zeros(shape = (size, size,3)) #size = length of width and height in pixel units \n",
        "  #print(\"TRIANGLE 1 SCREEN:\",tri1,\"\\n TRIANGLE 2 SCREEN:\", tri2, '\\n')\n",
        "  for i in range(0,len(tri1)):\n",
        "    if(0<=tri1[i][1] and tri1[i][1]< size and 0<=tri1[i][0] and tri1[i][0]< size):\n",
        "      pixels[tri1[i][1]][tri1[i][0]] = [255,0,0]\n",
        "  \n",
        "  for j in range(0, len(tri2)):\n",
        "    if(0<=tri2[j][1] and tri2[j][1]< size and 0<=tri2[j][0] and tri2[j][0]< size):\n",
        "      pixels[tri2[j][1]][tri2[j][0]] = [0,255,0]\n",
        "      \n",
        "  return pixels\n",
        "\n",
        "def anti_aliasing(pixels,size): #downsamples a higher resolution image (1000x1000) to (100x100)\n",
        "  new_pixels = np.zeros(shape = (size//10, size//10, 3)) # 100x100 matrix of RGB values \n",
        "  for i in range(0,size,10):\n",
        "    for j in range(0,size,10):\n",
        "      color = [0,0,0]\n",
        "      count = 0\n",
        "      #sample average color\n",
        "      for k in range(0,10):\n",
        "        for m in range(0,10):\n",
        "          color = [pixels[k+i][m+j][0] + color[0],pixels[k+i][m+j][1] + color[1], pixels[k+i][m+j][2] + color[2]]\n",
        "          count += 1\n",
        "      color = [(color[0]/count)/255, (color[1]/count)/255,(color[2]/count)/255]\n",
        "      new_pixels[i//10][j//10] = color\n",
        "      #if color[0] >= 10 and color[0] <255 :\n",
        "        #print(\"curr coords:\", i//10, ',', j//10, \"COLOR: \",color, '\\n')\n",
        "  return new_pixels\n",
        "\n",
        "def setup_z_buffer_coeff(vert):  #give in the z-buffer and triangle vertex and loop through buffer\n",
        "  temp_vect1 = vect_calc(vert[2],vert[0])\n",
        "  temp_vect2 = vect_calc(vert[2],vert[1])\n",
        "\n",
        "  plane_coef = cross_product(temp_vect1,temp_vect2)\n",
        "\n",
        "  constVal = plane_coef[0]*vert[2][0]+plane_coef[1]*vert[2][1]+plane_coef[2]*vert[2][2] #use points from one of the vertices\n",
        "\n",
        "  plane_coef.append(constVal)\n",
        "\n",
        "  return plane_coef\n",
        "\n",
        "def z_buffer_tri(coeff, z_buff,screen,tri_points,color): #checks if point in triangle is closer than point stored in z buffer\n",
        "  a = coeff[0]\n",
        "  b = coeff[1]\n",
        "  c = coeff[2]\n",
        "  d = coeff[3]\n",
        "\n",
        "  for i in range(0,len(tri_points)):\n",
        "    #figure out z value per each points\n",
        "    x = tri_points[i][0]\n",
        "    y = tri_points[i][1]\n",
        "    z = (d - b*tri_points[i][1] - a*tri_points[i][0])/c\n",
        "    if(z_buff[y][x] == float('inf') or z < z_buff[y][x]): #if curr point is closest to the screen\n",
        "      z_buff[y][x] = z #record closer z value\n",
        "      screen[y][x] = color #color this point color of triangle\n",
        "  return screen,z_buff"
      ],
      "execution_count": null,
      "outputs": []
    },
    {
      "cell_type": "code",
      "metadata": {
        "id": "pcSoDVNiNyKo"
      },
      "source": [
        "# Triangle vertices in 3D world space\n",
        "tri1 = [(0, 0, 0), (0, 30, 0), (35, 0, 35)] # RGB(255, 0, 0), Red\n",
        "tri2 = [(17, 0, 0), (0, 0, 17), (17, 45, 17)] # RGB(0, 255, 0), Green\n",
        "\n",
        "# cam = [(x, y, z), (x_f, y_f, z_f), (x_u, y_u, z_u), fov]\n",
        "# The first coordinate is where the camera is in world space. The second is what\n",
        "# coordinate it is looking at/facing. The third represents the \"up\" axis.  \n",
        "# Ex. cam1, cam3 up = positive of y-axis. cam2 up = negative if y-axis (upside-down camera)\n",
        "cam1 = [(50, 10, 0), (0, 10, 0), (0, 1, 0), 90] \n",
        "cam2 = [(50, 10, 0), (0, 10, 0), (0, -1, 0), 105]\n",
        "cam3 = [(0, 10, 50), (0, 10, 0), (0, 1, 0), 120] \n",
        "\n",
        "#z_buffer variables\n",
        "z_buffer1 = np.zeros(shape = (1000, 1000)) \n",
        "for i in range(0,1000):\n",
        "  for j in range(0,1000):\n",
        "    z_buffer1[i][j] = float('inf')\n",
        "\n",
        "z_buffer2 = np.zeros(shape = (1000, 1000))\n",
        "for i in range(0,1000):\n",
        "  for j in range(0,1000):\n",
        "    z_buffer2[i][j] = float('inf')\n",
        "\n",
        "z_buffer3 = np.zeros(shape = (1000, 1000)) \n",
        "for i in range(0,1000):\n",
        "  for j in range(0,1000):\n",
        "    z_buffer3[i][j] = float('inf')\n",
        "\n",
        "perspective1_tri1, perspective1_tri2 = mvp(cam1, tri1, tri2)\n",
        "perspective2_tri1, perspective2_tri2 = mvp(cam2, tri1, tri2)\n",
        "perspective3_tri1, perspective3_tri2 = mvp(cam3, tri1, tri2)\n",
        "\n",
        "#convert perspective ratios into screen coordinates\n",
        "tri1_1, tri1_2,vert1,vert2 = convertToScreen(perspective1_tri1, perspective1_tri2,500, 500)\n",
        "tri2_1, tri2_2,vert21,vert22 = convertToScreen(perspective2_tri1, perspective2_tri2,500, 500)\n",
        "tri3_1, tri3_2,vert31,vert32 = convertToScreen(perspective3_tri1, perspective3_tri2,500, 500)\n",
        "\n",
        "# Draw triangles in 2D\n",
        "\n",
        "perspective1 = rasterize(tri1_1, tri1_2,1000) \n",
        "perspective2 = rasterize(tri2_1, tri2_2,1000)\n",
        "perspective3 = rasterize(tri3_1, tri3_2,1000)\n",
        "\n",
        "#create coefficents for plane equations of each triangle\n",
        "coeff1 = setup_z_buffer_coeff(vert1)\n",
        "coeff2 = setup_z_buffer_coeff(vert2)\n",
        "\n",
        "coeff21 = setup_z_buffer_coeff(vert21)\n",
        "coeff22 = setup_z_buffer_coeff(vert22)\n",
        "\n",
        "coeff31 = setup_z_buffer_coeff(vert31)\n",
        "coeff32 = setup_z_buffer_coeff(vert32)\n",
        "\n",
        "#z-buffer for each triangle in the image\n",
        "perspective1,z_buffer1 = z_buffer_tri(coeff1,z_buffer1,perspective1,tri1_1,[255,0,0]) \n",
        "perspective1,z_buffer1 = z_buffer_tri(coeff2,z_buffer1,perspective1,tri1_2,[0,255,0])\n",
        "\n",
        "perspective2,z_buffer2 = z_buffer_tri(coeff21,z_buffer2,perspective2,tri2_1,[255,0,0]) \n",
        "perspective2,z_buffer2 = z_buffer_tri(coeff22,z_buffer2,perspective2,tri2_2,[0,255,0])\n",
        "\n",
        "perspective3,z_buffer3 = z_buffer_tri(coeff31,z_buffer3,perspective3,tri3_1,[255,0,0]) \n",
        "perspective3,z_buffer3 = z_buffer_tri(coeff32,z_buffer3,perspective3,tri3_2,[0,255,0])\n",
        " \n",
        "#Anti-Aliasing \n",
        "perspective1 = anti_aliasing(perspective1,1000)\n",
        "perspective2 = anti_aliasing(perspective2,1000)\n",
        "perspective3 = anti_aliasing(perspective3,1000)\n",
        "\n"
      ],
      "execution_count": null,
      "outputs": []
    },
    {
      "cell_type": "markdown",
      "metadata": {
        "id": "Gd83bOtWNvwP"
      },
      "source": [
        "\n",
        "Save the 100x100x3 RGB images you rendered with the given camera settings and triangle vertices. Images can be displayed using MatplotLib."
      ]
    },
    {
      "cell_type": "code",
      "metadata": {
        "id": "DBzYg5RNhs8P",
        "colab": {
          "base_uri": "https://localhost:8080/",
          "height": 761
        },
        "outputId": "3d2f0652-12cd-4d28-b096-07d79402d927"
      },
      "source": [
        "# Save and view images\n",
        "# origin = \"lower\" sets origin of plot to bottom left\n",
        "plt.imshow(perspective1, origin=\"lower\") \n",
        "plt.savefig('perspective1.png')\n",
        "files.download(\"perspective1.png\") \n",
        "plt.show()\n",
        "plt.imshow(perspective2, origin=\"lower\")\n",
        "plt.savefig('perspective2.png')\n",
        "files.download(\"perspective2.png\")  \n",
        "plt.show()\n",
        "plt.imshow(perspective3, origin=\"lower\")\n",
        "plt.savefig('perspective3.png')\n",
        "files.download(\"perspective3.png\")  \n",
        "plt.show()\n"
      ],
      "execution_count": null,
      "outputs": [
        {
          "output_type": "display_data",
          "data": {
            "application/javascript": [
              "\n",
              "    async function download(id, filename, size) {\n",
              "      if (!google.colab.kernel.accessAllowed) {\n",
              "        return;\n",
              "      }\n",
              "      const div = document.createElement('div');\n",
              "      const label = document.createElement('label');\n",
              "      label.textContent = `Downloading \"${filename}\": `;\n",
              "      div.appendChild(label);\n",
              "      const progress = document.createElement('progress');\n",
              "      progress.max = size;\n",
              "      div.appendChild(progress);\n",
              "      document.body.appendChild(div);\n",
              "\n",
              "      const buffers = [];\n",
              "      let downloaded = 0;\n",
              "\n",
              "      const channel = await google.colab.kernel.comms.open(id);\n",
              "      // Send a message to notify the kernel that we're ready.\n",
              "      channel.send({})\n",
              "\n",
              "      for await (const message of channel.messages) {\n",
              "        // Send a message to notify the kernel that we're ready.\n",
              "        channel.send({})\n",
              "        if (message.buffers) {\n",
              "          for (const buffer of message.buffers) {\n",
              "            buffers.push(buffer);\n",
              "            downloaded += buffer.byteLength;\n",
              "            progress.value = downloaded;\n",
              "          }\n",
              "        }\n",
              "      }\n",
              "      const blob = new Blob(buffers, {type: 'application/binary'});\n",
              "      const a = document.createElement('a');\n",
              "      a.href = window.URL.createObjectURL(blob);\n",
              "      a.download = filename;\n",
              "      div.appendChild(a);\n",
              "      a.click();\n",
              "      div.remove();\n",
              "    }\n",
              "  "
            ],
            "text/plain": [
              "<IPython.core.display.Javascript object>"
            ]
          },
          "metadata": {}
        },
        {
          "output_type": "display_data",
          "data": {
            "application/javascript": [
              "download(\"download_8a487f8b-b172-4313-89c6-0b829cd681d4\", \"perspective1.png\", 9655)"
            ],
            "text/plain": [
              "<IPython.core.display.Javascript object>"
            ]
          },
          "metadata": {}
        },
        {
          "output_type": "display_data",
          "data": {
            "image/png": "[encoded data removed]",
            "text/plain": [
              "<Figure size 432x288 with 1 Axes>"
            ]
          },
          "metadata": {
            "needs_background": "light"
          }
        },
        {
          "output_type": "display_data",
          "data": {
            "application/javascript": [
              "\n",
              "    async function download(id, filename, size) {\n",
              "      if (!google.colab.kernel.accessAllowed) {\n",
              "        return;\n",
              "      }\n",
              "      const div = document.createElement('div');\n",
              "      const label = document.createElement('label');\n",
              "      label.textContent = `Downloading \"${filename}\": `;\n",
              "      div.appendChild(label);\n",
              "      const progress = document.createElement('progress');\n",
              "      progress.max = size;\n",
              "      div.appendChild(progress);\n",
              "      document.body.appendChild(div);\n",
              "\n",
              "      const buffers = [];\n",
              "      let downloaded = 0;\n",
              "\n",
              "      const channel = await google.colab.kernel.comms.open(id);\n",
              "      // Send a message to notify the kernel that we're ready.\n",
              "      channel.send({})\n",
              "\n",
              "      for await (const message of channel.messages) {\n",
              "        // Send a message to notify the kernel that we're ready.\n",
              "        channel.send({})\n",
              "        if (message.buffers) {\n",
              "          for (const buffer of message.buffers) {\n",
              "            buffers.push(buffer);\n",
              "            downloaded += buffer.byteLength;\n",
              "            progress.value = downloaded;\n",
              "          }\n",
              "        }\n",
              "      }\n",
              "      const blob = new Blob(buffers, {type: 'application/binary'});\n",
              "      const a = document.createElement('a');\n",
              "      a.href = window.URL.createObjectURL(blob);\n",
              "      a.download = filename;\n",
              "      div.appendChild(a);\n",
              "      a.click();\n",
              "      div.remove();\n",
              "    }\n",
              "  "
            ],
            "text/plain": [
              "<IPython.core.display.Javascript object>"
            ]
          },
          "metadata": {}
        },
        {
          "output_type": "display_data",
          "data": {
            "application/javascript": [
              "download(\"download_3ba9c22e-c086-4a7b-8376-8388d6e72529\", \"perspective2.png\", 8973)"
            ],
            "text/plain": [
              "<IPython.core.display.Javascript object>"
            ]
          },
          "metadata": {}
        },
        {
          "output_type": "display_data",
          "data": {
            "image/png": "[encoded data removed]",
            "text/plain": [
              "<Figure size 432x288 with 1 Axes>"
            ]
          },
          "metadata": {
            "needs_background": "light"
          }
        },
        {
          "output_type": "display_data",
          "data": {
            "application/javascript": [
              "\n",
              "    async function download(id, filename, size) {\n",
              "      if (!google.colab.kernel.accessAllowed) {\n",
              "        return;\n",
              "      }\n",
              "      const div = document.createElement('div');\n",
              "      const label = document.createElement('label');\n",
              "      label.textContent = `Downloading \"${filename}\": `;\n",
              "      div.appendChild(label);\n",
              "      const progress = document.createElement('progress');\n",
              "      progress.max = size;\n",
              "      div.appendChild(progress);\n",
              "      document.body.appendChild(div);\n",
              "\n",
              "      const buffers = [];\n",
              "      let downloaded = 0;\n",
              "\n",
              "      const channel = await google.colab.kernel.comms.open(id);\n",
              "      // Send a message to notify the kernel that we're ready.\n",
              "      channel.send({})\n",
              "\n",
              "      for await (const message of channel.messages) {\n",
              "        // Send a message to notify the kernel that we're ready.\n",
              "        channel.send({})\n",
              "        if (message.buffers) {\n",
              "          for (const buffer of message.buffers) {\n",
              "            buffers.push(buffer);\n",
              "            downloaded += buffer.byteLength;\n",
              "            progress.value = downloaded;\n",
              "          }\n",
              "        }\n",
              "      }\n",
              "      const blob = new Blob(buffers, {type: 'application/binary'});\n",
              "      const a = document.createElement('a');\n",
              "      a.href = window.URL.createObjectURL(blob);\n",
              "      a.download = filename;\n",
              "      div.appendChild(a);\n",
              "      a.click();\n",
              "      div.remove();\n",
              "    }\n",
              "  "
            ],
            "text/plain": [
              "<IPython.core.display.Javascript object>"
            ]
          },
          "metadata": {}
        },
        {
          "output_type": "display_data",
          "data": {
            "application/javascript": [
              "download(\"download_b8f4fc5f-9616-49a1-9702-e3390d3803cb\", \"perspective3.png\", 8404)"
            ],
            "text/plain": [
              "<IPython.core.display.Javascript object>"
            ]
          },
          "metadata": {}
        },
        {
          "output_type": "display_data",
          "data": {
            "image/png": "[encoded data removed]",
            "text/plain": [
              "<Figure size 432x288 with 1 Axes>"
            ]
          },
          "metadata": {
            "needs_background": "light"
          }
        }
      ]
    },
    {
      "cell_type": "code",
      "metadata": {
        "colab": {
          "base_uri": "https://localhost:8080/",
          "height": 283
        },
        "id": "2Eph04MbKiTD",
        "outputId": "85262f18-e726-4bdb-a259-caf5d7ec3f7a"
      },
      "source": [
        "# Example of how to plot an image with a red line at X = 49.\n",
        "# Note that row = y, column = x value of pixel\n",
        "example_image = np.zeros(shape = (100, 100, 3))\n",
        "for row in range(100):\n",
        "  example_image[row][49] = [255, 0, 0]\n",
        "  example_image[row][52] = [0, 255, 0]\n",
        "plt.imshow(example_image, origin=\"lower\")\n",
        "plt.show()"
      ],
      "execution_count": null,
      "outputs": [
        {
          "output_type": "stream",
          "name": "stderr",
          "text": [
            "Clipping input data to the valid range for imshow with RGB data ([0..1] for floats or [0..255] for integers).\n"
          ]
        },
        {
          "output_type": "display_data",
          "data": {
            "image/png": "[encoded data removed]",
            "text/plain": [
              "<Figure size 432x288 with 1 Axes>"
            ]
          },
          "metadata": {
            "needs_background": "light"
          }
        }
      ]
    },
    {
      "cell_type": "markdown",
      "metadata": {
        "id": "-ZVUgX39zZZh"
      },
      "source": [
        "# Submission details\n",
        "\n",
        "Click \"File\" > \"Save a Copy in Drive\" and rename the file to your netID followed by \"_InfoVisHW1.\" Ex. \"bsl334_InfoVisHW1.ipynb\"\n",
        "\n",
        "You will be submitting your Colab notebook along with your three camera perspective images. \n",
        "\n"
      ]
    },
    {
      "cell_type": "markdown",
      "metadata": {
        "id": "zCZzYBuQ4NSC"
      },
      "source": [
        "Grading\n",
        "\n",
        "```\n",
        "Single triangle with MVP (50%)\n",
        "Single triangle with MVP and anti-aliasing (75%)\n",
        "Two triangles with MVP, anti-aliasing, and occlusion (100%) \n",
        "```"
      ]
    }
  ]
}